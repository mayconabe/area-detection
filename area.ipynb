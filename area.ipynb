{
 "cells": [
  {
   "cell_type": "code",
   "execution_count": null,
   "metadata": {},
   "outputs": [],
   "source": [
    "from ultralytics import YOLO\n",
    "import cv2\n",
    "import torch"
   ]
  },
  {
   "cell_type": "code",
   "execution_count": null,
   "metadata": {},
   "outputs": [],
   "source": [
    "# Carregar o modelo YOLOv8 pré-treinado\n",
    "model = YOLO(\"yolov8n.pt\")  # Use \"yolov8l.pt\" para mais precisão\n",
    "\n",
    "# Captura de vídeo da webcam\n",
    "cap = cv2.VideoCapture(0)\n",
    "\n",
    "# ROI (Region of Interest) para detecção de objetos\n",
    "roi_start = (100, 0)  # Coordenadas do canto superior esquerdo da área\n",
    "roi_end = (400, 500)    # Coordenadas do canto inferior direito da área\n",
    "\n",
    "# Inicializar gravação de vídeo\n",
    "video_writer = None\n",
    "recording = False\n",
    "\n",
    "# Definir limite de confiança\n",
    "confidence_threshold = 0.80"
   ]
  },
  {
   "cell_type": "code",
   "execution_count": null,
   "metadata": {},
   "outputs": [],
   "source": [
    "while True:\n",
    "    # Ler frame da webcam\n",
    "    ret, frame = cap.read()\n",
    "    if not ret:\n",
    "        break\n",
    "\n",
    "    # Realizar a detecção de objetos com YOLOv8\n",
    "    results = model(frame)\n",
    "    \n",
    "    # Filtrar detecções para encontrar apenas pessoas com confiança >= 0.80\n",
    "    for result in results:\n",
    "        for box in result.boxes:\n",
    "            if box.cls == 0:  # Classe 0 é 'pessoa' no COCO dataset\n",
    "                confidence = box.conf.item()\n",
    "                \n",
    "                if confidence >= confidence_threshold:\n",
    "                    x1, y1, x2, y2 = map(int, box.xyxy[0].tolist())\n",
    "                    \n",
    "                    # Desenhar o retângulo ao redor da pessoa detectada\n",
    "                    cv2.rectangle(frame, (x1, y1), (x2, y2), (255, 0, 0), 2)\n",
    "                    cv2.putText(frame, f\"Pessoa {confidence:.2f}\", (x1, y1 - 10), cv2.FONT_HERSHEY_SIMPLEX, 0.9, (0, 0, 255), 2)\n",
    "\n",
    "                    # Verificar se a pessoa está dentro da área de interesse\n",
    "                    if (roi_start[0] < x1 < roi_end[0]) and (roi_start[1] < y1 < roi_end[1]):\n",
    "                        cv2.putText(frame, \"Pessoa detectada na area!\", (x1, y1 - 30), cv2.FONT_HERSHEY_SIMPLEX, 0.9, (0, 0, 255), 2)\n",
    "                        \n",
    "                        # Iniciar gravação se não estiver gravando\n",
    "                        if not recording:\n",
    "                            fourcc = cv2.VideoWriter_fourcc(*'XVID')\n",
    "                            video_writer = cv2.VideoWriter('detected.avi', fourcc, 20.0, (frame.shape[1], frame.shape[0]))\n",
    "                            recording = True\n",
    "\n",
    "    # Desenhar a área de interesse no frame\n",
    "    cv2.rectangle(frame, roi_start, roi_end, (0, 255, 0), 2)\n",
    "    \n",
    "    # Gravar o frame se estiver gravando\n",
    "    if recording:\n",
    "        video_writer.write(frame)\n",
    "\n",
    "    # Mostrar frame\n",
    "    cv2.imshow(\"Deteccao de Pessoas\", frame)\n",
    "\n",
    "    # Parar se a tecla 'q' for pressionada\n",
    "    if cv2.waitKey(1) & 0xFF == ord('q'):\n",
    "        break\n",
    "\n",
    "# Liberar a captura e fechar janelas\n",
    "cap.release()\n",
    "if recording:\n",
    "    video_writer.release()\n",
    "cv2.destroyAllWindows()"
   ]
  }
 ],
 "metadata": {
  "kernelspec": {
   "display_name": "Python 3",
   "language": "python",
   "name": "python3"
  },
  "language_info": {
   "codemirror_mode": {
    "name": "ipython",
    "version": 3
   },
   "file_extension": ".py",
   "mimetype": "text/x-python",
   "name": "python",
   "nbconvert_exporter": "python",
   "pygments_lexer": "ipython3",
   "version": "3.12.4"
  }
 },
 "nbformat": 4,
 "nbformat_minor": 2
}
